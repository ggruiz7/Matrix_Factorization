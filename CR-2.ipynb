{
 "cells": [
  {
   "cell_type": "markdown",
   "id": "b4843511",
   "metadata": {},
   "source": [
    "### Problem Description"
   ]
  },
  {
   "cell_type": "markdown",
   "id": "19133a35",
   "metadata": {},
   "source": [
    "In this report we will examine the LU decomposition and Gaussian elimination without pivoting methods for solving a system Ax - b. Specifically we will examine the time to compute and the residual error and matrices of different sizes using each method and record these values. We will create a plot of the time to compute and and table of the residual errors."
   ]
  },
  {
   "cell_type": "markdown",
   "id": "51b8527a",
   "metadata": {},
   "source": [
    "### Results"
   ]
  },
  {
   "cell_type": "markdown",
   "id": "9f0c142e",
   "metadata": {},
   "source": [
    "See 'Wallclock Time and Errors' section below."
   ]
  },
  {
   "cell_type": "markdown",
   "id": "d480d150",
   "metadata": {},
   "source": [
    "### Guasian Elimination Without Pivoting"
   ]
  },
  {
   "cell_type": "code",
   "execution_count": 119,
   "id": "b956f082",
   "metadata": {},
   "outputs": [
    {
     "name": "stdout",
     "output_type": "stream",
     "text": [
      "rref(A) =  [[9, 11, 3], [0, -2.5555555555555554, 2.6666666666666665], [0, 0, 5.956521739130435]]\n"
     ]
    }
   ],
   "source": [
    "import numpy as np\n",
    "import sys\n",
    "\n",
    "def gaussian_elimination(A):\n",
    "    n = len(A)\n",
    "\n",
    "    for i in range(n):\n",
    "        # partial pivoting\n",
    "        max_row = i\n",
    "        for j in range(i+1, n):\n",
    "            if abs(A[j][i]) > abs(A[max_row][i]):\n",
    "                max_row = j\n",
    "        A[i], A[max_row] = A[max_row], A[i]\n",
    "\n",
    "        # elimination\n",
    "        if A[i][i] == 0:\n",
    "            continue\n",
    "        \n",
    "        for j in range(i+1, n):\n",
    "            multiplier = A[j][i] / A[i][i]\n",
    "            for k in range(i+1, n):\n",
    "                A[j][k] -= multiplier * A[i][k]\n",
    "            A[j][i] = 0\n",
    "\n",
    "    return A\n",
    "\n",
    "A = [[2, 4, 5], [7, 6, 5], [9, 11, 3]]\n",
    "\n",
    "result = gaussian_elimination(A)\n",
    "\n",
    "print('rref(A) = ', result)"
   ]
  },
  {
   "cell_type": "markdown",
   "id": "3d9bd348",
   "metadata": {},
   "source": [
    "### Back Substitution"
   ]
  },
  {
   "cell_type": "code",
   "execution_count": 120,
   "id": "32691acf",
   "metadata": {},
   "outputs": [
    {
     "name": "stdout",
     "output_type": "stream",
     "text": [
      "x =  [1.0197820797630384, -0.6074262139003492, 0.16788321167883213]\n",
      "Residual Error:  4.440892098500626e-16\n",
      "Time to Compute:  0.0\n"
     ]
    }
   ],
   "source": [
    "import time\n",
    "\n",
    "def back_sub(U, b):\n",
    "    n = len(b)\n",
    "    x = [0] * n\n",
    "    \n",
    "    for i in range(n-1, -1, -1):\n",
    "        x[i] = b[i]\n",
    "        for j in range(i+1, n):\n",
    "            x[i] -= U[i][j] * x[j]\n",
    "        x[i] /= U[i][i]\n",
    "            \n",
    "    return x\n",
    "\n",
    "b = [3, 2, 1]\n",
    "\n",
    "t0 = time.time() \n",
    "\n",
    "x_back = back_sub(result, b)\n",
    "\n",
    "t1 = time.time()\n",
    "total_time = t1 - t0\n",
    "\n",
    "# define norm\n",
    "def compute_norm(A, x, b):\n",
    "    Ax = np.dot(A, x)\n",
    "    norm = np.linalg.norm(Ax - b, ord=2)\n",
    "    return norm\n",
    "\n",
    "norm = compute_norm(A, x_back, b)\n",
    "\n",
    "print('x = ', x_back)\n",
    "print(\"Residual Error: \", norm)\n",
    "print('Time to Compute: ', total_time)"
   ]
  },
  {
   "cell_type": "markdown",
   "id": "5afbc5a3",
   "metadata": {},
   "source": [
    "### LU Factorization"
   ]
  },
  {
   "cell_type": "code",
   "execution_count": 123,
   "id": "daedf45e",
   "metadata": {},
   "outputs": [
    {
     "name": "stdout",
     "output_type": "stream",
     "text": [
      "L =  [[1.0, 0.0, 0.0], [3.5, 1.0, 0.0], [4.5, 0.875, 1.0]]\n",
      "U =  [[2, 4, 5], [0.0, -8.0, -12.5], [0.0, 0.0, -8.5625]]\n"
     ]
    }
   ],
   "source": [
    "import numpy as np\n",
    "\n",
    "def lu_factorization(A):\n",
    "    n = len(A)\n",
    "    L = [[0.0] * n for i in range(n)]\n",
    "    U = [[0.0] * n for i in range(n)]\n",
    "\n",
    "    # copy values of A into U\n",
    "    for i in range(n):\n",
    "        for j in range(n):\n",
    "            U[i][j] = A[i][j]\n",
    "\n",
    "    # perform the LU factorization\n",
    "    for k in range(n):\n",
    "        # compute diagonal elements of L and U\n",
    "        L[k][k] = 1.0\n",
    "        for i in range(k+1, n):\n",
    "            factor = U[i][k] / U[k][k]\n",
    "            L[i][k] = factor\n",
    "            U[i][k] = 0.0\n",
    "            for j in range(k+1, n):\n",
    "                U[i][j] = U[i][j] - factor * U[k][j]\n",
    "\n",
    "    return L, U\n",
    "\n",
    "\n",
    "A = [[2, 4, 5], [7, 6, 5], [9, 11, 3]]\n",
    "\n",
    "L, U = lu_factorization(A)\n",
    "\n",
    "print(\"L = \", L)\n",
    "print(\"U = \", U)"
   ]
  },
  {
   "cell_type": "markdown",
   "id": "dddfb298",
   "metadata": {},
   "source": [
    "### Solve LUx = b via Forward and Backwards Substitution"
   ]
  },
  {
   "cell_type": "code",
   "execution_count": 104,
   "id": "90861b54",
   "metadata": {},
   "outputs": [
    {
     "name": "stdout",
     "output_type": "stream",
     "text": [
      "x =  [-0.25547445255474455, 0.13868613138686126, 0.5912408759124088]\n",
      "Residual Error:  4.965068306494546e-16\n",
      "Time to Compute:  0.0\n"
     ]
    }
   ],
   "source": [
    "def forward_substitution(L, b):\n",
    "    n = len(L)\n",
    "    y = [0] * n\n",
    "    y[0] = b[0] / L[0][0]\n",
    "\n",
    "    for i in range(1, n):\n",
    "        y[i] = b[i]\n",
    "        for j in range(i):\n",
    "            y[i] -= L[i][j] * y[j] \n",
    "        y[i] = y[i] / L[i][i] \n",
    "\n",
    "    return y\n",
    "\n",
    "def solve_lu(L, U, b):\n",
    "    # forward substitution: solve Ly = Pb\n",
    "    y = forward_substitution(L, b)\n",
    "    \n",
    "    # backward substitution: solve Ux = y\n",
    "    x = back_sub(U, y)\n",
    "    \n",
    "    return x\n",
    "\n",
    "b = [3, 2, 1]\n",
    "\n",
    "t0 = time.time()\n",
    "\n",
    "x = solve_lu(L, U, b)\n",
    "\n",
    "t1 = time.time()\n",
    "total_time = t1 - t0\n",
    "\n",
    "norm = compute_norm(A, x, b)\n",
    "\n",
    "print(\"x = \", x)\n",
    "print('Residual Error: ', norm)\n",
    "print('Time to Compute: ', total_time)"
   ]
  },
  {
   "cell_type": "markdown",
   "id": "71187a39",
   "metadata": {},
   "source": [
    "### Define a (n × n) matrix A = (5√n)I + R"
   ]
  },
  {
   "cell_type": "code",
   "execution_count": 108,
   "id": "5e4302fd",
   "metadata": {},
   "outputs": [],
   "source": [
    "import numpy as np\n",
    "\n",
    "# set the value of n\n",
    "n = 50\n",
    "\n",
    "# generate matrix A\n",
    "A = 5 * np.sqrt(n) * np.eye(n) + np.random.normal(size = (n, n))\n",
    "\n",
    "b = np.random.normal(0, 1, size=(n, 1))"
   ]
  },
  {
   "cell_type": "markdown",
   "id": "437fc026",
   "metadata": {},
   "source": [
    "### Solve Using n = 50"
   ]
  },
  {
   "cell_type": "code",
   "execution_count": 110,
   "id": "61f6878f",
   "metadata": {},
   "outputs": [
    {
     "name": "stdout",
     "output_type": "stream",
     "text": [
      "Time to Compute Using n =  50 with LU:  0.016570568084716797\n",
      "Residual error:  0.6312783040038418\n",
      "Time to Compute Using n =  50 with GE:  0.010084390640258789\n",
      "Residual error:  6.42099832184827\n"
     ]
    }
   ],
   "source": [
    "import numpy as np\n",
    "\n",
    "# set the value of n\n",
    "n = 50\n",
    "\n",
    "# generate matrix A\n",
    "A = 5 * np.sqrt(n) * np.eye(n) + np.random.normal(size = (n, n))\n",
    "\n",
    "b = np.random.normal(0, 1, size=(n, 1))\n",
    "\n",
    "\n",
    "\n",
    "# LU Factorization\n",
    "\n",
    "L, U = lu_factorization(A)\n",
    "\n",
    "t0 = time.time()\n",
    "\n",
    "x = solve_lu(L, U, b)\n",
    "\n",
    "t1 = time.time()\n",
    "total_time1a = t1 - t0\n",
    "\n",
    "# MUST CHANGE A TO SAME TYPE AS PREVIOUS EXAMPLES!\n",
    "\n",
    "residual1a = np.linalg.norm(np.dot(A, x) - b)\n",
    "\n",
    "print('Time to Compute Using n = ', n, 'with LU: ', total_time1a)\n",
    "print(\"Residual error: \", residual1a)\n",
    "\n",
    "\n",
    "# GE Factorization\n",
    "\n",
    "result = gaussian_elimination(A)\n",
    "\n",
    "t2 = time.time()\n",
    "\n",
    "x_back = back_sub(result, b)\n",
    "\n",
    "t3 = time.time()\n",
    "total_time1b = t3 - t2\n",
    "\n",
    "residual1b = np.linalg.norm(np.dot(A, x) - b)\n",
    "\n",
    "print('Time to Compute Using n = ', n, 'with GE: ', total_time1b)\n",
    "print(\"Residual error: \", residual1b)"
   ]
  },
  {
   "cell_type": "markdown",
   "id": "4e388662",
   "metadata": {},
   "source": [
    "### Solving Using Size n = 100"
   ]
  },
  {
   "cell_type": "code",
   "execution_count": 111,
   "id": "04010d67",
   "metadata": {},
   "outputs": [
    {
     "name": "stdout",
     "output_type": "stream",
     "text": [
      "Time to Compute Using n =  100 with LU:  0.041735172271728516\n",
      "Residual error:  1.5630335525243462\n",
      "Time to Compute Using n =  100 with GE:  0.011214017868041992\n",
      "Residual error:  10.653541733998619\n"
     ]
    }
   ],
   "source": [
    "import numpy as np\n",
    "\n",
    "n = 100\n",
    "\n",
    "A = 5 * np.sqrt(n) * np.eye(n) + np.random.normal(size = (n, n))\n",
    "\n",
    "b = np.random.normal(0, 1, size=(n, 1))\n",
    "\n",
    "\n",
    "\n",
    "L, U = lu_factorization(A)\n",
    "\n",
    "t0 = time.time()\n",
    "\n",
    "x = solve_lu(L, U, b)\n",
    "\n",
    "t1 = time.time()\n",
    "total_time2a = t1 - t0\n",
    "\n",
    "residual2a = np.linalg.norm(np.dot(A, x) - b)\n",
    "\n",
    "print('Time to Compute Using n = ', n, 'with LU: ', total_time2a)\n",
    "print(\"Residual error: \", residual2a)\n",
    "\n",
    "\n",
    "\n",
    "result = gaussian_elimination(A)\n",
    "\n",
    "t2 = time.time()\n",
    "\n",
    "x_back = back_sub(result, b)\n",
    "\n",
    "t3 = time.time()\n",
    "total_time2b = t3 - t2\n",
    "\n",
    "residual2b = np.linalg.norm(np.dot(A, x) - b)\n",
    "\n",
    "print('Time to Compute Using n = ', n, 'with GE: ', total_time2b)\n",
    "print(\"Residual error: \", residual2b)"
   ]
  },
  {
   "cell_type": "markdown",
   "id": "5e1731ad",
   "metadata": {},
   "source": [
    "### Solving Using n = 250"
   ]
  },
  {
   "cell_type": "code",
   "execution_count": 112,
   "id": "05e69aea",
   "metadata": {},
   "outputs": [
    {
     "name": "stdout",
     "output_type": "stream",
     "text": [
      "Time to Compute Using n =  250 with LU:  0.2585735321044922\n",
      "Residual error:  2.4037620129700445\n",
      "Time to Compute Using n =  250 with GE:  0.1876082420349121\n",
      "Residual error:  16.314090731320803\n"
     ]
    }
   ],
   "source": [
    "import numpy as np\n",
    "\n",
    "n = 250\n",
    "\n",
    "A = 5 * np.sqrt(n) * np.eye(n) + np.random.normal(size = (n, n))\n",
    "\n",
    "b = np.random.normal(0, 1, size=(n, 1))\n",
    "\n",
    "\n",
    "\n",
    "L, U = lu_factorization(A)\n",
    "\n",
    "t0 = time.time()\n",
    "\n",
    "x = solve_lu(L, U, b)\n",
    "\n",
    "t1 = time.time()\n",
    "total_time3a = t1 - t0\n",
    "\n",
    "residual3a = np.linalg.norm(np.dot(A, x) - b)\n",
    "\n",
    "print('Time to Compute Using n = ', n, 'with LU: ', total_time3a)\n",
    "print(\"Residual error: \", residual3a)\n",
    "\n",
    "\n",
    "\n",
    "result = gaussian_elimination(A)\n",
    "\n",
    "t2 = time.time()\n",
    "\n",
    "x_back = back_sub(result, b)\n",
    "\n",
    "t3 = time.time()\n",
    "total_time3b = t3 - t2\n",
    "\n",
    "residual3b = np.linalg.norm(np.dot(A, x) - b)\n",
    "\n",
    "print('Time to Compute Using n = ', n, 'with GE: ', total_time3b)\n",
    "print(\"Residual error: \", residual3b)"
   ]
  },
  {
   "cell_type": "markdown",
   "id": "3df10592",
   "metadata": {},
   "source": [
    "### Solving Using n = 500"
   ]
  },
  {
   "cell_type": "code",
   "execution_count": 114,
   "id": "3d73e6be",
   "metadata": {},
   "outputs": [
    {
     "name": "stdout",
     "output_type": "stream",
     "text": [
      "Time to Compute Using n =  500 with LU:  1.1399741172790527\n",
      "Residual error:  3.313586902166185\n",
      "Time to Compute Using n =  500 with GE:  0.7832252979278564\n",
      "Residual error:  22.559363605237124\n"
     ]
    }
   ],
   "source": [
    "import numpy as np\n",
    "\n",
    "n = 500\n",
    "\n",
    "A = 5 * np.sqrt(n) * np.eye(n) + np.random.normal(size = (n, n))\n",
    "\n",
    "b = np.random.normal(size=(n, 1))\n",
    "\n",
    "\n",
    "\n",
    "L, U = lu_factorization(A)\n",
    "\n",
    "t0 = time.time()\n",
    "\n",
    "x = solve_lu(L, U, b)\n",
    "\n",
    "t1 = time.time()\n",
    "total_time4a = t1 - t0\n",
    "\n",
    "residual4a = np.linalg.norm(np.dot(A, x) - b)\n",
    "\n",
    "print('Time to Compute Using n = ', n, 'with LU: ', total_time4a)\n",
    "print(\"Residual error: \", residual4a)\n",
    "\n",
    "\n",
    "\n",
    "result = gaussian_elimination(A)\n",
    "\n",
    "t2 = time.time()\n",
    "\n",
    "x_back = back_sub(result, b)\n",
    "\n",
    "t3 = time.time()\n",
    "total_time4b = t3 - t2\n",
    "\n",
    "residual4b = np.linalg.norm(np.dot(A, x) - b)\n",
    "\n",
    "print('Time to Compute Using n = ', n, 'with GE: ', total_time4b)\n",
    "print(\"Residual error: \", residual4b)"
   ]
  },
  {
   "cell_type": "markdown",
   "id": "6c6a8b1c",
   "metadata": {},
   "source": [
    "### Plot of Time to Compute by Method, by n"
   ]
  },
  {
   "cell_type": "code",
   "execution_count": 115,
   "id": "db09c87a",
   "metadata": {},
   "outputs": [
    {
     "data": {
      "image/png": "[encoded data removed]",
      "text/plain": [
       "<Figure size 640x480 with 1 Axes>"
      ]
     },
     "metadata": {},
     "output_type": "display_data"
    }
   ],
   "source": [
    "import matplotlib.pyplot as plt\n",
    "\n",
    "y_axis1 = [total_time1a, total_time2a, total_time3a, total_time4a]\n",
    "y_axis2 = [total_time1b, total_time2b, total_time3b, total_time4b]\n",
    "\n",
    "x_axis = [50, 100, 250, 500]\n",
    "\n",
    "plt.plot(x_axis, y_axis1, marker = 'o')\n",
    "plt.plot(x_axis, y_axis2, marker = 'o')\n",
    "plt.legend(['LU Factorization', 'GE Factorization'])\n",
    "plt.ylabel(\"Time to Compute in Seconds\")\n",
    "plt.xlabel(\"Size of Matrix (n by n)\")\n",
    "plt.show()"
   ]
  },
  {
   "cell_type": "markdown",
   "id": "39ab1159",
   "metadata": {},
   "source": [
    "### Table of Errors by Method, by n"
   ]
  },
  {
   "cell_type": "code",
   "execution_count": 116,
   "id": "70f72744",
   "metadata": {},
   "outputs": [
    {
     "name": "stdout",
     "output_type": "stream",
     "text": [
      "---  ------------------  ------------------\n",
      "n    GE                  LU\n",
      "50   6.42099832184827    0.6312783040038418\n",
      "100  10.653541733998619  1.5630335525243462\n",
      "250  16.314090731320803  2.4037620129700445\n",
      "500  22.559363605237124  3.313586902166185\n",
      "---  ------------------  ------------------\n"
     ]
    }
   ],
   "source": [
    "from tabulate import tabulate\n",
    "\n",
    "table = [['n', 'GE', 'LU'], \n",
    "         ['50', residual1b, residual1a], \n",
    "         ['100', residual2b, residual2a], \n",
    "         ['250', residual3b, residual3a],\n",
    "         ['500', residual4b, residual4a]]\n",
    "\n",
    "print(tabulate(table))"
   ]
  },
  {
   "cell_type": "markdown",
   "id": "f8b0deba",
   "metadata": {},
   "source": [
    "###  Errors and Wallclock Time"
   ]
  },
  {
   "cell_type": "markdown",
   "id": "5614a6c7",
   "metadata": {},
   "source": [
    "The errors were consistently smaller using the LU decomposition instead of Gaussian elimination. The time to compute was similar for smaller sized matrices (up to size 100), after n grew large enough LU decomposition began to take significantly more time and was outpacing Gauss for how quickly the time to compute increased. The wallclock time differnce between the mehtod was somewhat expected, due to the nature of LU decomposition requiring the composition of two matrices. More generally:\n",
    "\n",
    "For Gauss, once the matrix is in this form, back substitution is performed to obtain the solution. This process has a computational complexity of O(n^3), where n is the size of the matrix.\n",
    "For LU, Once A is decomposed, solving systems of equations with different right-hand sides becomes computationally efficient, typically requiring O(n^2) operations for each system.\n",
    "\n",
    "Therefore, if you have to solve the system Ax - b = 0 multiple times with different matrices A but the same LU decomposition, the LU decomposition approach can potentially be faster than performing Gaussian elimination for each system independently. By reusing the LU decomposition, you can save computational time by avoiding the need to perform the factorization repeatedly.\n",
    "\n",
    "However, if the matrix A changes with every system to be solved, (as in this case) then re-factoring the matrix using LU decomposition for each system may offset the benefits."
   ]
  },
  {
   "cell_type": "markdown",
   "id": "23c75e9d",
   "metadata": {},
   "source": [
    "### Family A^ = R"
   ]
  },
  {
   "cell_type": "code",
   "execution_count": 121,
   "id": "22506eb4",
   "metadata": {},
   "outputs": [
    {
     "name": "stdout",
     "output_type": "stream",
     "text": [
      "Time to Compute Using n =  50 with LU:  0.01657247543334961\n",
      "Residual error:  67.31365959855555\n",
      "Time to Compute Using n =  50 with GE:  0.0036454200744628906\n",
      "Residual error:  nan\n"
     ]
    },
    {
     "name": "stderr",
     "output_type": "stream",
     "text": [
      "C:\\Users\\gg\\AppData\\Local\\Temp\\ipykernel_6292\\1616214449.py:11: RuntimeWarning: divide by zero encountered in divide\n",
      "  x[i] /= U[i][i]\n",
      "C:\\Users\\gg\\AppData\\Local\\Temp\\ipykernel_6292\\1616214449.py:10: RuntimeWarning: invalid value encountered in multiply\n",
      "  x[i] -= U[i][j] * x[j]\n"
     ]
    }
   ],
   "source": [
    "import numpy as np\n",
    "\n",
    "# set the value of n\n",
    "n = 50\n",
    "\n",
    "# generate matrix A\n",
    "A = np.random.normal(size = (n, n))\n",
    "\n",
    "b = np.random.normal(0, 1, size=(n, 1))\n",
    "\n",
    "\n",
    "\n",
    "# LU Factorization\n",
    "\n",
    "L, U = lu_factorization(A)\n",
    "\n",
    "t0 = time.time()\n",
    "\n",
    "x = solve_lu(L, U, b)\n",
    "\n",
    "t1 = time.time()\n",
    "total_time1a = t1 - t0\n",
    "\n",
    "residual1a = np.linalg.norm(np.dot(A, x) - b)\n",
    "\n",
    "print('Time to Compute Using n = ', n, 'with LU: ', total_time1a)\n",
    "print(\"Residual error: \", residual1a)\n",
    "\n",
    "\n",
    "\n",
    "# GE Factorization\n",
    "\n",
    "result = gaussian_elimination(A)\n",
    "\n",
    "t2 = time.time()\n",
    "\n",
    "x_back = back_sub(result, b)\n",
    "\n",
    "t3 = time.time()\n",
    "total_time1b = t3 - t2\n",
    "\n",
    "residual1b = np.linalg.norm(np.dot(A, x) - b)\n",
    "\n",
    "#print('Time to Compute Using n = ', n, 'with GE: ', total_time1b)\n",
    "#print(\"Residual error: \", residual1b)"
   ]
  },
  {
   "cell_type": "markdown",
   "id": "d4ef576d",
   "metadata": {},
   "source": [
    "What I notice is that the residual error for this family A^ = R is much larger than the residual error for the same sized matrices of the family A^ = (5√n)I + R. The time to compute was similar for both cases."
   ]
  },
  {
   "cell_type": "markdown",
   "id": "bc9ecac3",
   "metadata": {},
   "source": [
    "### Academic Integrity"
   ]
  },
  {
   "cell_type": "markdown",
   "id": "3ace2bf7",
   "metadata": {},
   "source": [
    "On my personal integrity as a student and member of the UCD community, I have not given, nor received and unauthorized assistance on this assignment."
   ]
  }
 ],
 "metadata": {
  "kernelspec": {
   "display_name": "Python 3 (ipykernel)",
   "language": "python",
   "name": "python3"
  },
  "language_info": {
   "codemirror_mode": {
    "name": "ipython",
    "version": 3
   },
   "file_extension": ".py",
   "mimetype": "text/x-python",
   "name": "python",
   "nbconvert_exporter": "python",
   "pygments_lexer": "ipython3",
   "version": "3.10.9"
  }
 },
 "nbformat": 4,
 "nbformat_minor": 5
}
